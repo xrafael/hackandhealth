{
 "cells": [
  {
   "cell_type": "code",
   "execution_count": 55,
   "metadata": {
    "collapsed": false
   },
   "outputs": [],
   "source": [
    "import numpy as np\n",
    "import pandas as pd\n",
    "import os\n",
    "import matplotlib.pyplot as plt\n",
    "#import seaborn as sns\n",
    "from matplotlib import rc\n",
    "%matplotlib inline\n",
    "#sns.set_style(\"whitegrid\")"
   ]
  },
  {
   "cell_type": "code",
   "execution_count": 3,
   "metadata": {
    "collapsed": false
   },
   "outputs": [],
   "source": [
    "dfPatients = pd.read_csv(os.path.join(\"resources\",\"base\",\"joinedVect.csv\"))"
   ]
  },
  {
   "cell_type": "code",
   "execution_count": 6,
   "metadata": {
    "collapsed": false
   },
   "outputs": [
    {
     "data": {
      "text/html": [
       "<div>\n",
       "<table border=\"1\" class=\"dataframe\">\n",
       "  <thead>\n",
       "    <tr style=\"text-align: right;\">\n",
       "      <th></th>\n",
       "      <th>PATIENT</th>\n",
       "      <th>DAY</th>\n",
       "      <th>HOUR</th>\n",
       "      <th>EPISODE</th>\n",
       "      <th>ACTIVITY_ALONE</th>\n",
       "      <th>ACTIVITY_FAMILY</th>\n",
       "      <th>ACTIVITY_FRIENDS</th>\n",
       "      <th>ACTIVITY_SPORTS</th>\n",
       "      <th>ACTIVITY_STUDYING/WORKING</th>\n",
       "      <th>EMOTION_DISTRESSED</th>\n",
       "      <th>...</th>\n",
       "      <th>EMOTION_GUILTY</th>\n",
       "      <th>EMOTION_HAPPY</th>\n",
       "      <th>EMOTION_RELAXED</th>\n",
       "      <th>EMOTION_SAD</th>\n",
       "      <th>MEAL_+  3 THIRD</th>\n",
       "      <th>MEAL_1 THIRD</th>\n",
       "      <th>MEAL_2 THIRD</th>\n",
       "      <th>MEAL_3 THIRD</th>\n",
       "      <th>MEAL_NOTHING</th>\n",
       "      <th>WEEK</th>\n",
       "    </tr>\n",
       "  </thead>\n",
       "  <tbody>\n",
       "    <tr>\n",
       "      <th>0</th>\n",
       "      <td>P1</td>\n",
       "      <td>2015-11-01</td>\n",
       "      <td>1</td>\n",
       "      <td>2</td>\n",
       "      <td>0</td>\n",
       "      <td>0</td>\n",
       "      <td>0</td>\n",
       "      <td>0</td>\n",
       "      <td>1</td>\n",
       "      <td>0</td>\n",
       "      <td>...</td>\n",
       "      <td>0</td>\n",
       "      <td>0</td>\n",
       "      <td>0</td>\n",
       "      <td>1</td>\n",
       "      <td>0</td>\n",
       "      <td>0</td>\n",
       "      <td>0</td>\n",
       "      <td>0</td>\n",
       "      <td>1</td>\n",
       "      <td>44</td>\n",
       "    </tr>\n",
       "    <tr>\n",
       "      <th>1</th>\n",
       "      <td>P1</td>\n",
       "      <td>2015-11-01</td>\n",
       "      <td>2</td>\n",
       "      <td>0</td>\n",
       "      <td>0</td>\n",
       "      <td>0</td>\n",
       "      <td>0</td>\n",
       "      <td>1</td>\n",
       "      <td>0</td>\n",
       "      <td>0</td>\n",
       "      <td>...</td>\n",
       "      <td>0</td>\n",
       "      <td>0</td>\n",
       "      <td>1</td>\n",
       "      <td>0</td>\n",
       "      <td>0</td>\n",
       "      <td>0</td>\n",
       "      <td>0</td>\n",
       "      <td>1</td>\n",
       "      <td>0</td>\n",
       "      <td>44</td>\n",
       "    </tr>\n",
       "    <tr>\n",
       "      <th>2</th>\n",
       "      <td>P1</td>\n",
       "      <td>2015-11-01</td>\n",
       "      <td>3</td>\n",
       "      <td>0</td>\n",
       "      <td>0</td>\n",
       "      <td>1</td>\n",
       "      <td>0</td>\n",
       "      <td>0</td>\n",
       "      <td>0</td>\n",
       "      <td>0</td>\n",
       "      <td>...</td>\n",
       "      <td>0</td>\n",
       "      <td>0</td>\n",
       "      <td>1</td>\n",
       "      <td>0</td>\n",
       "      <td>0</td>\n",
       "      <td>0</td>\n",
       "      <td>1</td>\n",
       "      <td>0</td>\n",
       "      <td>0</td>\n",
       "      <td>44</td>\n",
       "    </tr>\n",
       "    <tr>\n",
       "      <th>3</th>\n",
       "      <td>P1</td>\n",
       "      <td>2015-11-02</td>\n",
       "      <td>1</td>\n",
       "      <td>0</td>\n",
       "      <td>0</td>\n",
       "      <td>0</td>\n",
       "      <td>1</td>\n",
       "      <td>0</td>\n",
       "      <td>0</td>\n",
       "      <td>0</td>\n",
       "      <td>...</td>\n",
       "      <td>0</td>\n",
       "      <td>1</td>\n",
       "      <td>0</td>\n",
       "      <td>0</td>\n",
       "      <td>0</td>\n",
       "      <td>0</td>\n",
       "      <td>1</td>\n",
       "      <td>0</td>\n",
       "      <td>0</td>\n",
       "      <td>45</td>\n",
       "    </tr>\n",
       "    <tr>\n",
       "      <th>4</th>\n",
       "      <td>P1</td>\n",
       "      <td>2015-11-02</td>\n",
       "      <td>2</td>\n",
       "      <td>0</td>\n",
       "      <td>0</td>\n",
       "      <td>0</td>\n",
       "      <td>1</td>\n",
       "      <td>0</td>\n",
       "      <td>0</td>\n",
       "      <td>0</td>\n",
       "      <td>...</td>\n",
       "      <td>0</td>\n",
       "      <td>0</td>\n",
       "      <td>1</td>\n",
       "      <td>0</td>\n",
       "      <td>0</td>\n",
       "      <td>0</td>\n",
       "      <td>0</td>\n",
       "      <td>1</td>\n",
       "      <td>0</td>\n",
       "      <td>45</td>\n",
       "    </tr>\n",
       "  </tbody>\n",
       "</table>\n",
       "<p>5 rows × 21 columns</p>\n",
       "</div>"
      ],
      "text/plain": [
       "  PATIENT         DAY  HOUR  EPISODE  ACTIVITY_ALONE  ACTIVITY_FAMILY  \\\n",
       "0      P1  2015-11-01     1        2               0                0   \n",
       "1      P1  2015-11-01     2        0               0                0   \n",
       "2      P1  2015-11-01     3        0               0                1   \n",
       "3      P1  2015-11-02     1        0               0                0   \n",
       "4      P1  2015-11-02     2        0               0                0   \n",
       "\n",
       "   ACTIVITY_FRIENDS  ACTIVITY_SPORTS  ACTIVITY_STUDYING/WORKING  \\\n",
       "0                 0                0                          1   \n",
       "1                 0                1                          0   \n",
       "2                 0                0                          0   \n",
       "3                 1                0                          0   \n",
       "4                 1                0                          0   \n",
       "\n",
       "   EMOTION_DISTRESSED  ...   EMOTION_GUILTY  EMOTION_HAPPY  EMOTION_RELAXED  \\\n",
       "0                   0  ...                0              0                0   \n",
       "1                   0  ...                0              0                1   \n",
       "2                   0  ...                0              0                1   \n",
       "3                   0  ...                0              1                0   \n",
       "4                   0  ...                0              0                1   \n",
       "\n",
       "   EMOTION_SAD  MEAL_+  3 THIRD  MEAL_1 THIRD  MEAL_2 THIRD  MEAL_3 THIRD  \\\n",
       "0            1                0             0             0             0   \n",
       "1            0                0             0             0             1   \n",
       "2            0                0             0             1             0   \n",
       "3            0                0             0             1             0   \n",
       "4            0                0             0             0             1   \n",
       "\n",
       "   MEAL_NOTHING  WEEK  \n",
       "0             1    44  \n",
       "1             0    44  \n",
       "2             0    44  \n",
       "3             0    45  \n",
       "4             0    45  \n",
       "\n",
       "[5 rows x 21 columns]"
      ]
     },
     "execution_count": 6,
     "metadata": {},
     "output_type": "execute_result"
    }
   ],
   "source": [
    "cols = dfPatients.columns\n",
    "cols = [c for c in cols if 'Unn' not in c]\n",
    "dfPatients = dfPatients[cols]\n",
    "dfPatients.head()"
   ]
  },
  {
   "cell_type": "code",
   "execution_count": 43,
   "metadata": {
    "collapsed": false
   },
   "outputs": [
    {
     "name": "stdout",
     "output_type": "stream",
     "text": [
      "['ACTIVITY_ALONE', 'ACTIVITY_FAMILY', 'ACTIVITY_FRIENDS', 'ACTIVITY_SPORTS', 'ACTIVITY_STUDYING/WORKING', 'EMOTION_DISTRESSED', 'EMOTION_FUSTRATED', 'EMOTION_GUILTY', 'EMOTION_HAPPY', 'EMOTION_RELAXED', 'EMOTION_SAD', 'MEAL_+  3 THIRD', 'MEAL_1 THIRD', 'MEAL_2 THIRD', 'MEAL_3 THIRD', 'MEAL_NOTHING', 'EPISODE_0', 'EPISODE_1', 'EPISODE_2', 'EPISODE_3'] 20\n",
      "[[ 3  4  9  3  2  2  2  3  2  7  5  2  4 10  4  1 17  2  2  0]\n",
      " [ 3  4  6  4  4  1  5  2  2  9  2  0  5  9  5  2 18  0  3  0]\n",
      " [ 5  3  3  4  6  1  1  5  5  4  5  0  8  6  4  3 16  0  5  0]\n",
      " [ 6  1  4  4  6  5  2  3  1  5  5  0  6  6  2  7 14  0  7  0]\n",
      " [ 0  1  0  1  1  0  0  0  0  2  1  0  0  1  1  1  2  0  1  0]]\n"
     ]
    },
    {
     "name": "stderr",
     "output_type": "stream",
     "text": [
      "/home/xrafael/Projects/hack/hackandhealth/venv/lib/python2.7/site-packages/ipykernel/__main__.py:7: FutureWarning: sort(columns=....) is deprecated, use sort_values(by=.....)\n"
     ]
    }
   ],
   "source": [
    "dfPatientsVectExp = pd.get_dummies(dfPatients, columns=['EPISODE'])\n",
    "filtCols =  [c for c in dfPatientsVectExp.columns if ('DAY' not in c and 'HOUR' not in c)]\n",
    "\n",
    "res = dfPatientsVectExp[filtCols].groupby(by=['PATIENT','WEEK'])\n",
    "resAll = res.agg(['sum'])\n",
    "resAll.reset_index(level=[0,1], inplace=True)\n",
    "resAll.sort(columns=['PATIENT','WEEK'],inplace=True)\n",
    "finalCols = resAll.columns.get_level_values(0)\n",
    "finalCols = [c for c in finalCols if 'PATIENT' not in c and 'WEEK' not in c]\n",
    "print finalCols, len(finalCols)\n",
    "\n",
    "print resAll[finalCols].values[:5,:]\n",
    "data = pd.DataFrame(resAll[finalCols].values, columns=finalCols)\n",
    "data.to_csv(os.path.join(\"resources\",\"base\",\"clusterData.csv\"))"
   ]
  },
  {
   "cell_type": "code",
   "execution_count": 44,
   "metadata": {
    "collapsed": true
   },
   "outputs": [],
   "source": [
    "#### Clustering patients"
   ]
  },
  {
   "cell_type": "code",
   "execution_count": 76,
   "metadata": {
    "collapsed": true
   },
   "outputs": [],
   "source": [
    "from sklearn.decomposition import PCA\n",
    "from sklearn.preprocessing import scale\n",
    "from sklearn.cluster import KMeans,MiniBatchKMeans\n",
    "from sklearn.metrics import silhouette_samples, silhouette_score\n",
    "\n",
    "stdData = scale(data)"
   ]
  },
  {
   "cell_type": "code",
   "execution_count": 79,
   "metadata": {
    "collapsed": false
   },
   "outputs": [
    {
     "name": "stdout",
     "output_type": "stream",
     "text": [
      "[[  2.           0.23962927]\n",
      " [  3.           0.26724927]\n",
      " [  4.           0.15269565]\n",
      " [  5.           0.16884038]\n",
      " [  6.           0.15205586]\n",
      " [  7.           0.14369237]\n",
      " [  8.           0.13227276]\n",
      " [  9.           0.12981673]\n",
      " [ 10.           0.12678336]] \n",
      "\n"
     ]
    },
    {
     "name": "stderr",
     "output_type": "stream",
     "text": [
      "/home/xrafael/Projects/hack/hackandhealth/venv/lib/python2.7/site-packages/ipykernel/__main__.py:19: FutureWarning: sort(columns=....) is deprecated, use sort_values(by=.....)\n"
     ]
    }
   ],
   "source": [
    "df_sorted = []\n",
    "best_clust = []\n",
    "range_n_clusters = [2, 3, 4, 5, 6, 7, 8, 9, 10]\n",
    "\n",
    "for n_clusters in range_n_clusters:\n",
    "\n",
    "    # Initialize the clusterer with n_clusters value and a random generator\n",
    "    # seed of 10 for reproducibility.\n",
    "    clusterer = KMeans(n_clusters=n_clusters, n_init=15, init='k-means++',n_jobs=-1, random_state=13)\n",
    "    cluster_labels = clusterer.fit_predict(stdData[:,:])\n",
    "\n",
    "    # The silhouette_score gives the average value for all the samples.\n",
    "    # This gives a perspective into the density and separation of the formed\n",
    "    # clusters\n",
    "    silhouette_avg = silhouette_score(stdData[:,:], cluster_labels,metric='euclidean')    \n",
    "    best_clust.append([n_clusters, silhouette_avg, clusterer])\n",
    "\n",
    "df_clustering = pd.DataFrame(best_clust, columns=('k','score','method'))\n",
    "df_sorted = df_clustering.sort(columns='k',ascending=True)\n",
    "   \n",
    "print df_sorted[['k','score']].values, '\\n'"
   ]
  },
  {
   "cell_type": "code",
   "execution_count": 80,
   "metadata": {
    "collapsed": false
   },
   "outputs": [
    {
     "data": {
      "image/png": "[encoded data removed]",
      "text/plain": [
       "<matplotlib.figure.Figure at 0x7ff895ae6190>"
      ]
     },
     "metadata": {},
     "output_type": "display_data"
    }
   ],
   "source": [
    "df_sorted[['k','score']].plot(x='k', y='score')\n",
    "plt.show()"
   ]
  },
  {
   "cell_type": "code",
   "execution_count": 86,
   "metadata": {
    "collapsed": false
   },
   "outputs": [
    {
     "data": {
      "text/plain": [
       "KMeans(algorithm='auto', copy_x=True, init='k-means++', max_iter=300,\n",
       "    n_clusters=3, n_init=15, n_jobs=-1, precompute_distances='auto',\n",
       "    random_state=13, tol=0.0001, verbose=0)"
      ]
     },
     "execution_count": 86,
     "metadata": {},
     "output_type": "execute_result"
    }
   ],
   "source": [
    "type_cols_index = 1\n",
    "df_sorted.iloc[type_cols_index]['method']"
   ]
  },
  {
   "cell_type": "code",
   "execution_count": 98,
   "metadata": {
    "collapsed": false
   },
   "outputs": [
    {
     "data": {
      "image/png": "[encoded data removed]",
      "text/plain": [
       "<matplotlib.figure.Figure at 0x7ff895c97cd0>"
      ]
     },
     "metadata": {},
     "output_type": "display_data"
    }
   ],
   "source": [
    "reduced_data = PCA(n_components=2).fit_transform(stdData)\n",
    "kmeans = KMeans(init='k-means++', n_clusters=3, n_init=10)\n",
    "kmeans.fit(reduced_data)\n",
    "\n",
    "# Step size of the mesh. Decrease to increase the quality of the VQ.\n",
    "h = .02     # point in the mesh [x_min, x_max]x[y_min, y_max].\n",
    "\n",
    "# Plot the decision boundary. For that, we will assign a color to each\n",
    "x_min, x_max = reduced_data[:, 0].min() - 1, reduced_data[:, 0].max() + 1\n",
    "y_min, y_max = reduced_data[:, 1].min() - 1, reduced_data[:, 1].max() + 1\n",
    "xx, yy = np.meshgrid(np.arange(x_min, x_max, h), np.arange(y_min, y_max, h))\n",
    "\n",
    "# Obtain labels for each point in mesh. Use last trained model.\n",
    "Z = kmeans.predict(np.c_[xx.ravel(), yy.ravel()])\n",
    "\n",
    "# Put the result into a color plot\n",
    "Z = Z.reshape(xx.shape)\n",
    "plt.figure(1)\n",
    "plt.clf()\n",
    "plt.imshow(Z, interpolation='nearest',\n",
    "           extent=(xx.min(), xx.max(), yy.min(), yy.max()),\n",
    "           cmap=plt.cm.Paired,\n",
    "           aspect='auto', origin='lower')\n",
    "\n",
    "plt.plot(reduced_data[:, 0], reduced_data[:, 1], 'k.', markersize=2)\n",
    "# Plot the centroids as a white X\n",
    "centroids = kmeans.cluster_centers_\n",
    "plt.scatter(centroids[:, 0], centroids[:, 1],\n",
    "            marker='x', s=169, linewidths=3,\n",
    "            color='w', zorder=10)\n",
    "plt.title('K-means clustering (PCA-reduced data)\\n'\n",
    "          'Centroids are marked with white cross')\n",
    "plt.xlim(x_min, x_max)\n",
    "plt.ylim(y_min, y_max)\n",
    "plt.xticks(())\n",
    "plt.yticks(())\n",
    "plt.show()"
   ]
  },
  {
   "cell_type": "code",
   "execution_count": 99,
   "metadata": {
    "collapsed": false
   },
   "outputs": [
    {
     "data": {
      "text/plain": [
       "array([[ 2.41222982, -1.2964838 ],\n",
       "       [ 3.20888479,  6.19851099],\n",
       "       [-1.54592351, -0.0763565 ]])"
      ]
     },
     "execution_count": 99,
     "metadata": {},
     "output_type": "execute_result"
    }
   ],
   "source": [
    "pcacentroids"
   ]
  },
  {
   "cell_type": "code",
   "execution_count": null,
   "metadata": {
    "collapsed": true
   },
   "outputs": [],
   "source": []
  }
 ],
 "metadata": {
  "kernelspec": {
   "display_name": "Python 2",
   "language": "python",
   "name": "python2"
  },
  "language_info": {
   "codemirror_mode": {
    "name": "ipython",
    "version": 2
   },
   "file_extension": ".py",
   "mimetype": "text/x-python",
   "name": "python",
   "nbconvert_exporter": "python",
   "pygments_lexer": "ipython2",
   "version": "2.7.12"
  }
 },
 "nbformat": 4,
 "nbformat_minor": 1
}
